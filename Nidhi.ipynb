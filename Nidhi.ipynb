{
 "cells": [
  {
   "cell_type": "markdown",
   "id": "af11f47e",
   "metadata": {},
   "source": [
    "Question 1"
   ]
  },
  {
   "cell_type": "code",
   "execution_count": 1,
   "id": "9c9c8321",
   "metadata": {},
   "outputs": [],
   "source": [
    "import regex as re"
   ]
  },
  {
   "cell_type": "code",
   "execution_count": 2,
   "id": "8823081d",
   "metadata": {},
   "outputs": [],
   "source": [
    "text = \"Phython Exercise, PHP Exercise.\""
   ]
  },
  {
   "cell_type": "code",
   "execution_count": 4,
   "id": "06601f20",
   "metadata": {},
   "outputs": [],
   "source": [
    "replaced_text = (re.sub(\"[ ,.]\", \":\", text))"
   ]
  },
  {
   "cell_type": "code",
   "execution_count": 5,
   "id": "2aab4e3e",
   "metadata": {},
   "outputs": [
    {
     "name": "stdout",
     "output_type": "stream",
     "text": [
      "Phython:Exercise::PHP:Exercise:\n"
     ]
    }
   ],
   "source": [
    "print(replaced_text)"
   ]
  },
  {
   "cell_type": "markdown",
   "id": "f1373196",
   "metadata": {},
   "source": [
    "Question 2"
   ]
  },
  {
   "cell_type": "code",
   "execution_count": 28,
   "id": "26339f02",
   "metadata": {},
   "outputs": [],
   "source": [
    "import pandas as pd"
   ]
  },
  {
   "cell_type": "code",
   "execution_count": null,
   "id": "19d90a2f",
   "metadata": {},
   "outputs": [],
   "source": [
    "import re"
   ]
  },
  {
   "cell_type": "code",
   "execution_count": 20,
   "id": "7c9f3e08",
   "metadata": {},
   "outputs": [],
   "source": [
    "d1={'SUMMARY' : ['hello, world!', 'XXXXX test', '123four, five:; six...']}"
   ]
  },
  {
   "cell_type": "code",
   "execution_count": 27,
   "id": "792716a5",
   "metadata": {},
   "outputs": [
    {
     "data": {
      "text/plain": [
       "{'SUMMARY': ['hello, world!', 'XXXXX test', '123four, five:; six...']}"
      ]
     },
     "execution_count": 27,
     "metadata": {},
     "output_type": "execute_result"
    }
   ],
   "source": [
    "d1"
   ]
  },
  {
   "cell_type": "code",
   "execution_count": 33,
   "id": "1ba81635",
   "metadata": {},
   "outputs": [],
   "source": [
    "df = pd.DataFrame(d1)"
   ]
  },
  {
   "cell_type": "code",
   "execution_count": 43,
   "id": "d8aa0825",
   "metadata": {},
   "outputs": [],
   "source": [
    "df['SUMMARY'] = df['SUMMARY'].str.replace('[^a-zA-Z\\s]', '', regex=True)"
   ]
  },
  {
   "cell_type": "code",
   "execution_count": 44,
   "id": "3fd37d78",
   "metadata": {},
   "outputs": [
    {
     "name": "stdout",
     "output_type": "stream",
     "text": [
      "         SUMMARY\n",
      "0    hello world\n",
      "1     XXXXX test\n",
      "2  four five six\n"
     ]
    }
   ],
   "source": [
    "print(df)"
   ]
  },
  {
   "cell_type": "markdown",
   "id": "df256358",
   "metadata": {},
   "source": [
    "Question 3"
   ]
  },
  {
   "cell_type": "code",
   "execution_count": 3,
   "id": "adcd48ae",
   "metadata": {},
   "outputs": [],
   "source": [
    "text = 'APJ Abdul Kalam was an Indian Scientist.'"
   ]
  },
  {
   "cell_type": "code",
   "execution_count": 2,
   "id": "0202362b",
   "metadata": {},
   "outputs": [
    {
     "ename": "NameError",
     "evalue": "name 're' is not defined",
     "output_type": "error",
     "traceback": [
      "\u001b[1;31m---------------------------------------------------------------------------\u001b[0m",
      "\u001b[1;31mNameError\u001b[0m                                 Traceback (most recent call last)",
      "Cell \u001b[1;32mIn[2], line 1\u001b[0m\n\u001b[1;32m----> 1\u001b[0m \u001b[38;5;28mprint\u001b[39m(re\u001b[38;5;241m.\u001b[39mfindall(\u001b[38;5;124mr\u001b[39m\u001b[38;5;124m\"\u001b[39m\u001b[38;5;124m\\\u001b[39m\u001b[38;5;124mb\u001b[39m\u001b[38;5;124m\\\u001b[39m\u001b[38;5;124mw\u001b[39m\u001b[38;5;124m{\u001b[39m\u001b[38;5;124m4,}\u001b[39m\u001b[38;5;124m\\\u001b[39m\u001b[38;5;124mb\u001b[39m\u001b[38;5;124m\"\u001b[39m, text))\n",
      "\u001b[1;31mNameError\u001b[0m: name 're' is not defined"
     ]
    }
   ],
   "source": [
    "print(re.findall(r\"\\b\\w{4,}\\b\", text))"
   ]
  },
  {
   "cell_type": "markdown",
   "id": "4c5f3ec4",
   "metadata": {},
   "source": [
    "Question 4"
   ]
  },
  {
   "cell_type": "code",
   "execution_count": 49,
   "id": "5a254936",
   "metadata": {},
   "outputs": [],
   "source": [
    "text = 'APJ Abdul Kalam was an Indian Scientist.'"
   ]
  },
  {
   "cell_type": "code",
   "execution_count": 52,
   "id": "0d642682",
   "metadata": {},
   "outputs": [
    {
     "name": "stdout",
     "output_type": "stream",
     "text": [
      "['APJ', 'Abdul', 'Kalam', 'was']\n"
     ]
    }
   ],
   "source": [
    "print(re.findall(r\"\\b\\w{3,5}\\b\", text))"
   ]
  },
  {
   "cell_type": "markdown",
   "id": "52666145",
   "metadata": {},
   "source": [
    "Question 5"
   ]
  },
  {
   "cell_type": "code",
   "execution_count": 27,
   "id": "6347539c",
   "metadata": {},
   "outputs": [],
   "source": [
    "import regex as re"
   ]
  },
  {
   "cell_type": "code",
   "execution_count": 41,
   "id": "d68cf353",
   "metadata": {},
   "outputs": [],
   "source": [
    "Text = [\"example (.com)\", \"hr@fliprobo (.com)\", \"github (.com)\", \"Hello (Data Science World)\", \"Data (Scientist)\"]"
   ]
  },
  {
   "cell_type": "markdown",
   "id": "fc9fee90",
   "metadata": {},
   "source": [
    "Question 7"
   ]
  },
  {
   "cell_type": "code",
   "execution_count": 35,
   "id": "e6ebef29",
   "metadata": {},
   "outputs": [],
   "source": [
    "import regex as re"
   ]
  },
  {
   "cell_type": "code",
   "execution_count": 37,
   "id": "820655f3",
   "metadata": {},
   "outputs": [],
   "source": [
    "Text = \"ImportanceOfRegularExpressionInPython\""
   ]
  },
  {
   "cell_type": "code",
   "execution_count": 38,
   "id": "59f56ef9",
   "metadata": {},
   "outputs": [],
   "source": [
    "result=re.split(\"\\s\", Text)"
   ]
  },
  {
   "cell_type": "code",
   "execution_count": 40,
   "id": "cdba0ed5",
   "metadata": {},
   "outputs": [
    {
     "name": "stdout",
     "output_type": "stream",
     "text": [
      "['Importance', 'Of', 'Regular', 'Expression', 'In', 'Python']\n"
     ]
    }
   ],
   "source": [
    "print(re.findall('[A-Z][^A-Z]*', Text))"
   ]
  },
  {
   "cell_type": "markdown",
   "id": "bbc9ae50",
   "metadata": {},
   "source": [
    "Question 8"
   ]
  },
  {
   "cell_type": "code",
   "execution_count": 43,
   "id": "6a8314f0",
   "metadata": {},
   "outputs": [],
   "source": [
    "import regex as re"
   ]
  },
  {
   "cell_type": "code",
   "execution_count": 47,
   "id": "7b74bc6c",
   "metadata": {},
   "outputs": [],
   "source": [
    "Text1 = \"RegularExpression1IsAn2ImportantTopic3InPython\""
   ]
  },
  {
   "cell_type": "code",
   "execution_count": 50,
   "id": "d82d78c4",
   "metadata": {},
   "outputs": [
    {
     "name": "stdout",
     "output_type": "stream",
     "text": [
      "RegularExpression1IsAn2ImportantTopic3InPython\n"
     ]
    }
   ],
   "source": [
    "print(Text1)"
   ]
  },
  {
   "cell_type": "code",
   "execution_count": 3,
   "id": "bda8d757",
   "metadata": {},
   "outputs": [],
   "source": [
    "test_str = 'RegularExpression1IsAn2ImportantTopic3InPython'"
   ]
  },
  {
   "cell_type": "code",
   "execution_count": 4,
   "id": "f25950d7",
   "metadata": {},
   "outputs": [
    {
     "name": "stdout",
     "output_type": "stream",
     "text": [
      "The original string is : RegularExpression1IsAn2ImportantTopic3InPython\n"
     ]
    }
   ],
   "source": [
    "print(\"The original string is : \" + str(test_str))"
   ]
  },
  {
   "cell_type": "code",
   "execution_count": 9,
   "id": "880a6d7e",
   "metadata": {},
   "outputs": [],
   "source": [
    "for i in test_str:\n",
    "    if i.isdigit():\n",
    "        test_str=test_str.replace(i,\" \"+i+\" \")\n",
    "         \n",
    "res=test_str\n"
   ]
  },
  {
   "cell_type": "code",
   "execution_count": 10,
   "id": "50d9c118",
   "metadata": {},
   "outputs": [
    {
     "name": "stdout",
     "output_type": "stream",
     "text": [
      "The space added string : RegularExpression 1 IsAn 2 ImportantTopic 3 InPython\n"
     ]
    }
   ],
   "source": [
    "print(\"The space added string : \" + str(res))"
   ]
  },
  {
   "cell_type": "markdown",
   "id": "8b765513",
   "metadata": {},
   "source": [
    "Question 9"
   ]
  },
  {
   "cell_type": "code",
   "execution_count": 11,
   "id": "34f84fde",
   "metadata": {},
   "outputs": [],
   "source": [
    "string='RegularExpression1IsAn2ImportantTopic3InPython'"
   ]
  },
  {
   "cell_type": "code",
   "execution_count": 23,
   "id": "b960a552",
   "metadata": {},
   "outputs": [],
   "source": [
    "words = re.findall('[A-Z][a-0-9]+|\\d+)', string)"
   ]
  },
  {
   "cell_type": "code",
   "execution_count": 25,
   "id": "7a22c578",
   "metadata": {},
   "outputs": [
    {
     "name": "stdout",
     "output_type": "stream",
     "text": [
      "Regular Expression Is An Important Topic In Python\n"
     ]
    }
   ],
   "source": [
    "print(' '.join((words)))"
   ]
  },
  {
   "cell_type": "markdown",
   "id": "fa2352a3",
   "metadata": {},
   "source": [
    "Question 10"
   ]
  },
  {
   "cell_type": "code",
   "execution_count": null,
   "id": "32ce42d2",
   "metadata": {},
   "outputs": [],
   "source": []
  },
  {
   "cell_type": "markdown",
   "id": "6c934a76",
   "metadata": {},
   "source": [
    "Question 11"
   ]
  },
  {
   "cell_type": "code",
   "execution_count": 28,
   "id": "edc11bcd",
   "metadata": {},
   "outputs": [],
   "source": [
    "def match_string(string):\n",
    "  pattern = r'^[a-zA-Z0-9_]+$'\n",
    "  if re.match(pattern, string):\n",
    "      print(\"String matches the pattern\")\n",
    "  else:\n",
    "      print(\"String does not match the pattern\")"
   ]
  },
  {
   "cell_type": "code",
   "execution_count": 32,
   "id": "ee1b2fcf",
   "metadata": {},
   "outputs": [
    {
     "name": "stdout",
     "output_type": "stream",
     "text": [
      "String matches the pattern\n"
     ]
    }
   ],
   "source": [
    "match_string(\"MyselfNidhiHello_Sir123\")"
   ]
  },
  {
   "cell_type": "code",
   "execution_count": 31,
   "id": "6346a16c",
   "metadata": {},
   "outputs": [
    {
     "name": "stdout",
     "output_type": "stream",
     "text": [
      "String does not match the pattern\n"
     ]
    }
   ],
   "source": [
    "match_string(\"HELLO SIR\")"
   ]
  },
  {
   "cell_type": "markdown",
   "id": "664dbe46",
   "metadata": {},
   "source": [
    "Question 12"
   ]
  },
  {
   "cell_type": "code",
   "execution_count": 39,
   "id": "b427c046",
   "metadata": {},
   "outputs": [],
   "source": [
    "def match_num(string):\n",
    "    text = re.compile(r\"^9\")\n",
    "    if text.match(string):\n",
    "        return True\n",
    "    else:\n",
    "        return False\n"
   ]
  },
  {
   "cell_type": "code",
   "execution_count": 41,
   "id": "fcb671d3",
   "metadata": {},
   "outputs": [
    {
     "name": "stdout",
     "output_type": "stream",
     "text": [
      "True\n"
     ]
    }
   ],
   "source": [
    "print(match_num('9-9915312352'))"
   ]
  },
  {
   "cell_type": "code",
   "execution_count": 42,
   "id": "f8102ce5",
   "metadata": {},
   "outputs": [
    {
     "name": "stdout",
     "output_type": "stream",
     "text": [
      "False\n"
     ]
    }
   ],
   "source": [
    "print(match_num('5-9915312352'))"
   ]
  },
  {
   "cell_type": "markdown",
   "id": "9c6d2e72",
   "metadata": {},
   "source": [
    "Question 13"
   ]
  },
  {
   "cell_type": "code",
   "execution_count": 45,
   "id": "2f925462",
   "metadata": {},
   "outputs": [
    {
     "name": "stdout",
     "output_type": "stream",
     "text": [
      "515.5.85.132\n"
     ]
    }
   ],
   "source": [
    "ip_add = \"515.05.085.132\"\n",
    "string = re.sub('\\.[0]*', '.', ip_add)\n",
    "print(string)"
   ]
  },
  {
   "cell_type": "markdown",
   "id": "d021d7d9",
   "metadata": {},
   "source": [
    "Question 14"
   ]
  },
  {
   "cell_type": "markdown",
   "id": "1e009165",
   "metadata": {},
   "source": [
    "Write a regular expression in python to match a date string in the form of Month name followed by day number and year stored in a text file."
   ]
  },
  {
   "cell_type": "code",
   "execution_count": 60,
   "id": "9637004b",
   "metadata": {},
   "outputs": [
    {
     "name": "stdout",
     "output_type": "stream",
     "text": [
      "January 26th 1950\n"
     ]
    }
   ],
   "source": [
    "Example = \"On January 26th 1950 India declared the Savidhan of our Country India.\"\n",
    "pattern = r\"\\b([A-Z][a-z]+ \\d{1,2}(?:st|nd|rd|th)? \\d{4})\\b\"\n",
    "matches = re.findall(pattern, Example)\n",
    "print(date_string)\n"
   ]
  },
  {
   "cell_type": "code",
   "execution_count": 62,
   "id": "ecacccaa",
   "metadata": {},
   "outputs": [
    {
     "name": "stdout",
     "output_type": "stream",
     "text": [
      "January 26th 1950\n"
     ]
    }
   ],
   "source": [
    "Example = \"On January 26th 1950 India declared the Savidhan of our Country.\"\n",
    "pattern = r\"\\b([A-Z][a-z]+ \\d{1,2}(?:st|nd|rd|th)? \\d{4})\\b\"\n",
    "matches = re.findall(pattern, Example)\n",
    "date_string = matches[0] if matches else None\n",
    "print(date_string)"
   ]
  },
  {
   "cell_type": "code",
   "execution_count": 63,
   "id": "609ce4dd",
   "metadata": {},
   "outputs": [
    {
     "name": "stdout",
     "output_type": "stream",
     "text": [
      "None\n"
     ]
    }
   ],
   "source": [
    "Example = \"India declared the Savidhan of our Country.\"\n",
    "pattern = r\"\\b([A-Z][a-z]+ \\d{1,2}(?:st|nd|rd|th)? \\d{4})\\b\"\n",
    "matches = re.findall(pattern, Example)\n",
    "date_string = matches[0] if matches else None\n",
    "print(date_string)"
   ]
  },
  {
   "cell_type": "markdown",
   "id": "f54e17db",
   "metadata": {},
   "source": [
    "Question 15"
   ]
  },
  {
   "cell_type": "markdown",
   "id": "ac42848e",
   "metadata": {},
   "source": [
    "Write a Python program to search some literals strings in a string"
   ]
  },
  {
   "cell_type": "code",
   "execution_count": 68,
   "id": "9a297b29",
   "metadata": {},
   "outputs": [
    {
     "name": "stdout",
     "output_type": "stream",
     "text": [
      "Searching for \"fox\" in \"The quick brown fox jumps over the lazy dog.\" ->\n",
      "Matched!\n",
      "Searching for \"dog\" in \"The quick brown fox jumps over the lazy dog.\" ->\n",
      "Matched!\n",
      "Searching for \"horse\" in \"The quick brown fox jumps over the lazy dog.\" ->\n",
      "Not Matched!\n"
     ]
    }
   ],
   "source": [
    "patterns = [ 'fox', 'dog', 'horse' ]\n",
    "text = 'The quick brown fox jumps over the lazy dog.'\n",
    "for pattern in patterns:\n",
    "    print('Searching for \"%s\" in \"%s\" ->' % (pattern, text),)\n",
    "    if re.search(pattern,  text):\n",
    "        print('Matched!')\n",
    "    else:\n",
    "        print('Not Matched!')"
   ]
  },
  {
   "cell_type": "markdown",
   "id": "1c27464c",
   "metadata": {},
   "source": [
    "Question 16"
   ]
  },
  {
   "cell_type": "markdown",
   "id": "74353093",
   "metadata": {},
   "source": [
    "Write a Python program to search a literals string in a string and also find the location within the original string where the pattern occurs"
   ]
  },
  {
   "cell_type": "code",
   "execution_count": 69,
   "id": "009b1319",
   "metadata": {},
   "outputs": [
    {
     "name": "stdout",
     "output_type": "stream",
     "text": [
      "Found \"fox\" in \"The quick brown fox jumps over the lazy dog.\" from 16 to 19 \n"
     ]
    }
   ],
   "source": [
    "pattern = 'fox'\n",
    "text = 'The quick brown fox jumps over the lazy dog.'\n",
    "match = re.search(pattern, text)\n",
    "s = match.start()\n",
    "e = match.end()\n",
    "print('Found \"%s\" in \"%s\" from %d to %d ' % \\\n",
    "    (match.re.pattern, match.string, s, e))"
   ]
  },
  {
   "cell_type": "code",
   "execution_count": 70,
   "id": "eae6dcbc",
   "metadata": {},
   "outputs": [
    {
     "name": "stdout",
     "output_type": "stream",
     "text": [
      "Found \"dog\" in \"The quick brown fox jumps over the lazy dog.\" from 40 to 43 \n"
     ]
    }
   ],
   "source": [
    "pattern = 'dog'\n",
    "text = 'The quick brown fox jumps over the lazy dog.'\n",
    "match = re.search(pattern, text)\n",
    "s = match.start()\n",
    "e = match.end()\n",
    "print('Found \"%s\" in \"%s\" from %d to %d ' % \\\n",
    "    (match.re.pattern, match.string, s, e))"
   ]
  },
  {
   "cell_type": "markdown",
   "id": "d9efe6e4",
   "metadata": {},
   "source": [
    "Question 17"
   ]
  },
  {
   "cell_type": "markdown",
   "id": "39a3bb89",
   "metadata": {},
   "source": [
    "Write a Python program to find the substrings within a string."
   ]
  },
  {
   "cell_type": "code",
   "execution_count": 82,
   "id": "cd992460",
   "metadata": {},
   "outputs": [
    {
     "name": "stdout",
     "output_type": "stream",
     "text": [
      "exercises\n",
      "exercises\n",
      "exercises\n"
     ]
    }
   ],
   "source": [
    "string = 'Python exercises, PHP exercises, C# exercises'\n",
    "substring = 'exercises'\n",
    "for match in re.findall(substring, string):\n",
    "    print(\"%s\" % match)"
   ]
  },
  {
   "cell_type": "markdown",
   "id": "508d835f",
   "metadata": {},
   "source": [
    "Question 18"
   ]
  },
  {
   "cell_type": "markdown",
   "id": "f9271f14",
   "metadata": {},
   "source": [
    "Write a Python program to find the occurrence and position of the substrings within a string."
   ]
  },
  {
   "cell_type": "code",
   "execution_count": 83,
   "id": "cf01c38b",
   "metadata": {},
   "outputs": [
    {
     "name": "stdout",
     "output_type": "stream",
     "text": [
      "exercises at 7:16\n",
      "exercises at 22:31\n",
      "exercises at 36:45\n"
     ]
    }
   ],
   "source": [
    "string = 'Python exercises, PHP exercises, C# exercises'\n",
    "substring = 'exercises'\n",
    "for match in re.finditer(substring, string):\n",
    "    s = match.start()\n",
    "    e = match.end()\n",
    "    print('%s at %d:%d' % (string[s:e], s, e))\n",
    "\t"
   ]
  },
  {
   "cell_type": "markdown",
   "id": "6094ffc0",
   "metadata": {},
   "source": [
    "Question 19"
   ]
  },
  {
   "cell_type": "markdown",
   "id": "664b62d7",
   "metadata": {},
   "source": [
    "Write a Python program to convert a date of yyyy-mm-dd format to dd-mm-yyyy format."
   ]
  },
  {
   "cell_type": "code",
   "execution_count": 96,
   "id": "b1cd1128",
   "metadata": {},
   "outputs": [
    {
     "name": "stdout",
     "output_type": "stream",
     "text": [
      "Actual date Format:  1882-07-10\n",
      "New date Format:  10-07-1882\n"
     ]
    }
   ],
   "source": [
    "def change_date_format(date):\n",
    "        return re.sub(r'(\\d{4})-(\\d{1,2})-(\\d{1,2})', '\\\\3-\\\\2-\\\\1', date)\n",
    "date1 = \"1882-07-10\"\n",
    "print(\"Actual date Format: \",date1)\n",
    "print(\"New date Format: \",change_date_format(date1))"
   ]
  },
  {
   "cell_type": "markdown",
   "id": "1e1f3740",
   "metadata": {},
   "source": [
    "Question 20"
   ]
  },
  {
   "cell_type": "markdown",
   "id": "0b95ad64",
   "metadata": {},
   "source": [
    "Create a function in python to find all decimal numbers with a precision of 1 or 2 in a string. The use of the re.compile() method is mandatory"
   ]
  },
  {
   "cell_type": "code",
   "execution_count": 97,
   "id": "e0f1ed43",
   "metadata": {},
   "outputs": [],
   "source": [
    "def find_decimal_numbers(string):\n",
    "  pattern = re.compile(r'\\d+\\.\\d{1,2}')\n",
    "  decimal_numbers = re.findall(pattern, string)\n",
    "  return decimal_numbers"
   ]
  },
  {
   "cell_type": "code",
   "execution_count": 102,
   "id": "3e5f68ba",
   "metadata": {},
   "outputs": [
    {
     "name": "stdout",
     "output_type": "stream",
     "text": [
      "['01.12', '0132.12', '2.31', '145.8', '3.01', '27.25', '0.25']\n"
     ]
    }
   ],
   "source": [
    "text = \"01.12 0132.123 2.31875 145.8 3.01 27.25 0.25\"\n",
    "output = find_decimal_numbers(text)\n",
    "print(output)"
   ]
  },
  {
   "cell_type": "markdown",
   "id": "618e03de",
   "metadata": {},
   "source": [
    "Question 21"
   ]
  },
  {
   "cell_type": "markdown",
   "id": "3280e4ea",
   "metadata": {},
   "source": [
    "Write a Python program to separate and print the numbers and their position of a given string."
   ]
  },
  {
   "cell_type": "code",
   "execution_count": 108,
   "id": "7819ab20",
   "metadata": {},
   "outputs": [
    {
     "name": "stdout",
     "output_type": "stream",
     "text": [
      "25\n",
      "Index position: 11\n",
      "30\n",
      "Index position: 24\n"
     ]
    }
   ],
   "source": [
    "Example = \"There were 25 crows and 30 sparrows sitting on a branch .\"\n",
    "for n in re.finditer(\"\\d+\", Example):\n",
    "    print(n.group(0))\n",
    "    print(\"Index position:\", n.start())"
   ]
  },
  {
   "cell_type": "markdown",
   "id": "0d13335e",
   "metadata": {},
   "source": [
    "Question 22"
   ]
  },
  {
   "cell_type": "markdown",
   "id": "5be9429f",
   "metadata": {},
   "source": [
    "Write a regular expression in python program to extract maximum/largest numeric value from a string."
   ]
  },
  {
   "cell_type": "code",
   "execution_count": 117,
   "id": "147ec838",
   "metadata": {},
   "outputs": [
    {
     "name": "stdout",
     "output_type": "stream",
     "text": [
      "Max_value: 85\n"
     ]
    }
   ],
   "source": [
    "string=\"There were 25 crows 30 sparrows and 85 pigeons were sitting on a branch .\"\n",
    "number = re.findall('\\d+', string)\n",
    "number = map(int, number)\n",
    "print(\"Max_value:\",max(number))"
   ]
  },
  {
   "cell_type": "markdown",
   "id": "fcc4e5b2",
   "metadata": {},
   "source": [
    "Question 23"
   ]
  },
  {
   "cell_type": "markdown",
   "id": "6a1b6837",
   "metadata": {},
   "source": [
    "Create a function in python to insert spaces between words starting with capital letters."
   ]
  },
  {
   "cell_type": "code",
   "execution_count": 118,
   "id": "73fd90e9",
   "metadata": {},
   "outputs": [
    {
     "name": "stdout",
     "output_type": "stream",
     "text": [
      "Regular Expression Is An Important Topic In Python\n"
     ]
    }
   ],
   "source": [
    "string='RegularExpressionIsAnImportantTopicInPython'\n",
    "words = re.findall('[A-Z][a-z]*', string)\n",
    "#concatenate the word with space\n",
    "print(' '.join((words)))"
   ]
  },
  {
   "cell_type": "code",
   "execution_count": 119,
   "id": "45f19569",
   "metadata": {},
   "outputs": [
    {
     "name": "stdout",
     "output_type": "stream",
     "text": [
      "Regular Expression Is An Important Topic In Python\n"
     ]
    }
   ],
   "source": [
    "def capital_words_spaces(str1):\n",
    "  return re.sub(r\"(\\w)([A-Z])\", r\"\\1 \\2\", str1)\n",
    "print(capital_words_spaces(\"RegularExpressionIsAnImportantTopicInPython\"))"
   ]
  },
  {
   "cell_type": "markdown",
   "id": "b3218e45",
   "metadata": {},
   "source": [
    "Question 24"
   ]
  },
  {
   "cell_type": "markdown",
   "id": "fa074f67",
   "metadata": {},
   "source": [
    "Python regex to find sequences of one upper case letter followed by lower case letters"
   ]
  },
  {
   "cell_type": "code",
   "execution_count": 122,
   "id": "8e56c6af",
   "metadata": {},
   "outputs": [
    {
     "name": "stdout",
     "output_type": "stream",
     "text": [
      "['There', 'Crows', 'Sparrows', 'Sitting', 'Branch']\n"
     ]
    }
   ],
   "source": [
    "pattern = r'[A-Z][a-z]+'\n",
    "text = \"There were 25 Crows and 30 Sparrows Sitting on a Branch.\"\n",
    "matches = re.findall(r'[A-Z][a-z]+', text)\n",
    "print(matches)"
   ]
  },
  {
   "cell_type": "code",
   "execution_count": 129,
   "id": "3c8116df",
   "metadata": {},
   "outputs": [
    {
     "name": "stdout",
     "output_type": "stream",
     "text": [
      "Find a match!\n"
     ]
    }
   ],
   "source": [
    "def text_match(text):\n",
    "        patterns = '[A-Z]+[a-z]+'\n",
    "        if re.findall('[A-Z]+[a-z]+', text):\n",
    "                return 'Find a match!'\n",
    "        else:\n",
    "                return('Not Find a match!')\n",
    "print(text_match(\"There were 25 Crows and 30 Sparrows Sitting on a Branch\"))\n"
   ]
  },
  {
   "cell_type": "code",
   "execution_count": 128,
   "id": "ae46a942",
   "metadata": {},
   "outputs": [
    {
     "name": "stdout",
     "output_type": "stream",
     "text": [
      "Not Find a match!\n"
     ]
    }
   ],
   "source": [
    "def text_match(text):\n",
    "        patterns = '[A-Z]+[a-z]+'\n",
    "        if re.findall('[A-Z]+[a-z]+', text):\n",
    "                return 'Find a match!'\n",
    "        else:\n",
    "                return('Not Find a match!')\n",
    "print(text_match(\"there were 25 crows and 30 sparrows sitting on a branch\"))"
   ]
  },
  {
   "cell_type": "markdown",
   "id": "87fc9fb6",
   "metadata": {},
   "source": [
    "Question 25"
   ]
  },
  {
   "cell_type": "markdown",
   "id": "15227879",
   "metadata": {},
   "source": [
    "Write a Python program to remove continuous duplicate words from Sentence using Regular Expression."
   ]
  },
  {
   "cell_type": "code",
   "execution_count": 131,
   "id": "d0dfc22c",
   "metadata": {},
   "outputs": [],
   "source": [
    "text = \"Hello hello world world\" "
   ]
  },
  {
   "cell_type": "code",
   "execution_count": 132,
   "id": "069f83fd",
   "metadata": {},
   "outputs": [],
   "source": [
    "text = re.sub(r'(\\w+)\\1', r'\\1', text)"
   ]
  },
  {
   "cell_type": "code",
   "execution_count": 133,
   "id": "2071366c",
   "metadata": {},
   "outputs": [
    {
     "name": "stdout",
     "output_type": "stream",
     "text": [
      "Helo helo world world\n"
     ]
    }
   ],
   "source": [
    "print(text)"
   ]
  },
  {
   "cell_type": "code",
   "execution_count": 148,
   "id": "ef535b8c",
   "metadata": {},
   "outputs": [
    {
     "name": "stdout",
     "output_type": "stream",
     "text": [
      "Hello world\n",
      "Datatrained is the best platform to learn\n"
     ]
    }
   ],
   "source": [
    "def remove_of_Duplicate_words_From_Text(text):\n",
    "    pattern = r'\\b(\\w+)(?:\\W+\\1\\b)+' \n",
    "    return re.sub(pattern, r'\\1', text, flags=re.IGNORECASE)\n",
    "\n",
    "Text1 = \"Hello hello world world\"\n",
    "print(remove_of_Duplicate_words_From_Text(Text1))\n",
    "Text2 = \"Datatrained is the the best platform to learn\"\n",
    "print(remove_of_Duplicate_words_From_Text(Text2))"
   ]
  },
  {
   "cell_type": "code",
   "execution_count": 152,
   "id": "5db11d96",
   "metadata": {},
   "outputs": [
    {
     "name": "stdout",
     "output_type": "stream",
     "text": [
      "Hello world\n"
     ]
    }
   ],
   "source": [
    "def remove_of_Duplicate_words_From_Text(text):\n",
    "    pattern = r'\\b(\\w+)(?:\\W+\\1\\b)+' \n",
    "    return re.sub(pattern, text)\n",
    "\n",
    "str1 = \"Hello hello world world\"\n",
    "print(removeDuplicatesFromText(str1))\n"
   ]
  },
  {
   "cell_type": "markdown",
   "id": "cf916439",
   "metadata": {},
   "source": [
    "Question 26"
   ]
  },
  {
   "cell_type": "markdown",
   "id": "ab5ec1b7",
   "metadata": {},
   "source": [
    "Write a python program using RegEx to accept string ending with alphanumeric character."
   ]
  },
  {
   "cell_type": "markdown",
   "id": "bd90c39f",
   "metadata": {},
   "source": [
    "Question 27"
   ]
  },
  {
   "cell_type": "markdown",
   "id": "82067979",
   "metadata": {},
   "source": [
    "Write a python program using RegEx to extract the hashtags."
   ]
  },
  {
   "cell_type": "markdown",
   "id": "6c7f5b53",
   "metadata": {},
   "source": [
    "Question 29"
   ]
  },
  {
   "cell_type": "markdown",
   "id": "d3f56ffc",
   "metadata": {},
   "source": [
    "Write a python program to extract dates from the text stored in the text file. not able to extract from file but from string."
   ]
  },
  {
   "cell_type": "code",
   "execution_count": 2,
   "id": "6a53d852",
   "metadata": {},
   "outputs": [
    {
     "name": "stdout",
     "output_type": "stream",
     "text": [
      "The original string is : dob is 2021-01-04\n",
      "Computed date : 2021-01-04\n"
     ]
    }
   ],
   "source": [
    "from datetime import datetime\n",
    "test_str = \"dob is 2021-01-04\"\n",
    "print(\"The original string is : \" + str(test_str))\n",
    "match_str = re.search(r'\\d{4}-\\d{2}-\\d{2}', test_str)\n",
    "res = datetime.strptime(match_str.group(), '%Y-%m-%d').date()\n",
    "print(\"Computed date : \" + str(res))"
   ]
  },
  {
   "cell_type": "markdown",
   "id": "93f1a750",
   "metadata": {},
   "source": [
    "Question 30"
   ]
  },
  {
   "cell_type": "markdown",
   "id": "fbf1c9a5",
   "metadata": {},
   "source": [
    "Create a function in python to remove all words from a string of length between 2 and 4."
   ]
  },
  {
   "cell_type": "code",
   "execution_count": 3,
   "id": "78e69103",
   "metadata": {},
   "outputs": [],
   "source": [
    "def remove_words(string):\n",
    "  pattern = re.compile(r'\\b\\w{2,4}\\b')\n",
    "  modified_string = re.sub(pattern, '', string)\n",
    "  return modified_string"
   ]
  },
  {
   "cell_type": "code",
   "execution_count": 4,
   "id": "39c1abc5",
   "metadata": {},
   "outputs": [
    {
     "name": "stdout",
     "output_type": "stream",
     "text": [
      " following example creates  ArrayList  a capacity   elements. 4 elements   added   ArrayList   ArrayList  trimmed accordingly.\n"
     ]
    }
   ],
   "source": [
    "sample_text = \"The following example creates an ArrayList with a capacity of 50 elements. 4 elements are then added to the ArrayList and the ArrayList is trimmed accordingly.\"\n",
    "output = remove_words(sample_text)\n",
    "print(output)"
   ]
  },
  {
   "cell_type": "code",
   "execution_count": null,
   "id": "977cb750",
   "metadata": {},
   "outputs": [],
   "source": []
  }
 ],
 "metadata": {
  "kernelspec": {
   "display_name": "Python 3 (ipykernel)",
   "language": "python",
   "name": "python3"
  },
  "language_info": {
   "codemirror_mode": {
    "name": "ipython",
    "version": 3
   },
   "file_extension": ".py",
   "mimetype": "text/x-python",
   "name": "python",
   "nbconvert_exporter": "python",
   "pygments_lexer": "ipython3",
   "version": "3.11.3"
  }
 },
 "nbformat": 4,
 "nbformat_minor": 5
}
