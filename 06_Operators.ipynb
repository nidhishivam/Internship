{
 "cells": [
  {
   "cell_type": "markdown",
   "id": "5c51e8be",
   "metadata": {},
   "source": [
    "# Operators"
   ]
  },
  {
   "cell_type": "code",
   "execution_count": 9,
   "id": "2557c1e2",
   "metadata": {},
   "outputs": [
    {
     "name": "stdout",
     "output_type": "stream",
     "text": [
      "\n"
     ]
    }
   ],
   "source": [
    "\n",
    "\n"
   ]
  },
  {
   "cell_type": "code",
   "execution_count": null,
   "id": "367be710",
   "metadata": {},
   "outputs": [],
   "source": []
  },
  {
   "cell_type": "code",
   "execution_count": 1,
   "id": "98279dd7",
   "metadata": {},
   "outputs": [
    {
     "name": "stdout",
     "output_type": "stream",
     "text": [
      "{'a': '1', 'b': '2', 'c': '3'}\n"
     ]
    }
   ],
   "source": [
    "a=\"a1\",\"b2\",\"c3\"\n",
    "print(dict(a))"
   ]
  },
  {
   "cell_type": "code",
   "execution_count": null,
   "id": "6b1aa749",
   "metadata": {},
   "outputs": [],
   "source": [
    "1.print a minimum number in a list.\n",
    "2.calculate the simple interest in python.\n",
    "3.reverse a list\n",
    "4.\"a1\",\"b2\",\"c3\"\n",
    "a='python'\n",
    "b=[7,8,9]\n",
    "c=(a,b)\n",
    "print(c[1][1:])"
   ]
  },
  {
   "cell_type": "code",
   "execution_count": 11,
   "id": "c4cb8dbb",
   "metadata": {},
   "outputs": [
    {
     "name": "stdout",
     "output_type": "stream",
     "text": [
      "<class 'set'>\n"
     ]
    }
   ],
   "source": [
    "a=set()\n",
    "print(type(a))"
   ]
  },
  {
   "cell_type": "code",
   "execution_count": 28,
   "id": "043ddc54",
   "metadata": {},
   "outputs": [
    {
     "name": "stdout",
     "output_type": "stream",
     "text": [
      "{'k': 'a', 'b': '2', 'c': '3'}\n"
     ]
    }
   ],
   "source": [
    "d=\"ka\",\"b2\",\"c3\"\n",
    "print(dict(d))"
   ]
  },
  {
   "cell_type": "code",
   "execution_count": 21,
   "id": "12d4b115",
   "metadata": {},
   "outputs": [
    {
     "name": "stdout",
     "output_type": "stream",
     "text": [
      "5\n"
     ]
    }
   ],
   "source": [
    "a=[1,2,3,4,9]\n",
    "b=len(a)\n",
    "print(b)"
   ]
  },
  {
   "cell_type": "code",
   "execution_count": 3,
   "id": "276158e8",
   "metadata": {},
   "outputs": [
    {
     "name": "stdout",
     "output_type": "stream",
     "text": [
      "[5, 8, 9, 11]\n",
      "5\n"
     ]
    }
   ],
   "source": [
    "l=[11,5,8,9]\n",
    "l.sort()\n",
    "print(l)\n",
    "print(l[0])"
   ]
  },
  {
   "cell_type": "code",
   "execution_count": 5,
   "id": "c553abc8",
   "metadata": {},
   "outputs": [
    {
     "name": "stdout",
     "output_type": "stream",
     "text": [
      "nohtyp\n"
     ]
    }
   ],
   "source": [
    "l=\"python\"\n",
    "print(l[: :-1])"
   ]
  },
  {
   "cell_type": "code",
   "execution_count": 8,
   "id": "c46a702f",
   "metadata": {},
   "outputs": [
    {
     "ename": "ValueError",
     "evalue": "dictionary update sequence element #2 has length 1; 2 is required",
     "output_type": "error",
     "traceback": [
      "\u001b[1;31m---------------------------------------------------------------------------\u001b[0m",
      "\u001b[1;31mValueError\u001b[0m                                Traceback (most recent call last)",
      "\u001b[1;32m~\\AppData\\Local\\Temp\\ipykernel_2568\\3785490917.py\u001b[0m in \u001b[0;36m<module>\u001b[1;34m\u001b[0m\n\u001b[0;32m      1\u001b[0m \u001b[0ma\u001b[0m\u001b[1;33m=\u001b[0m\u001b[1;34m\"a1\"\u001b[0m\u001b[1;33m,\u001b[0m\u001b[1;34m\"b2\"\u001b[0m\u001b[1;33m,\u001b[0m\u001b[1;34m\"c\"\u001b[0m\u001b[1;33m\u001b[0m\u001b[1;33m\u001b[0m\u001b[0m\n\u001b[1;32m----> 2\u001b[1;33m \u001b[0mprint\u001b[0m\u001b[1;33m(\u001b[0m\u001b[0mdict\u001b[0m\u001b[1;33m(\u001b[0m\u001b[0ma\u001b[0m\u001b[1;33m)\u001b[0m\u001b[1;33m)\u001b[0m\u001b[1;33m\u001b[0m\u001b[1;33m\u001b[0m\u001b[0m\n\u001b[0m",
      "\u001b[1;31mValueError\u001b[0m: dictionary update sequence element #2 has length 1; 2 is required"
     ]
    }
   ],
   "source": [
    "a=\"a1\",\"b2\",\"c\"\n",
    "print(dict(a))"
   ]
  },
  {
   "cell_type": "code",
   "execution_count": 6,
   "id": "b2d6634e",
   "metadata": {},
   "outputs": [
    {
     "name": "stdout",
     "output_type": "stream",
     "text": [
      "[8, 7, 6, 5]\n"
     ]
    }
   ],
   "source": [
    "l=[5,6,7,8]\n",
    "print(l[: :-1])\n",
    "# print(l)"
   ]
  },
  {
   "cell_type": "code",
   "execution_count": null,
   "id": "83ed173d",
   "metadata": {},
   "outputs": [],
   "source": [
    "a=[1,8,9,5]\n",
    "# [5,9,8,1]"
   ]
  },
  {
   "cell_type": "code",
   "execution_count": 3,
   "id": "b5b04578",
   "metadata": {},
   "outputs": [
    {
     "name": "stdout",
     "output_type": "stream",
     "text": [
      "('python', [7, 8, 9])\n",
      "[8, 9]\n"
     ]
    }
   ],
   "source": [
    "a='python'\n",
    "b=[7,8,9]\n",
    "c=(a,b)\n",
    "print(c)\n",
    "print(c[1][1:])"
   ]
  },
  {
   "cell_type": "code",
   "execution_count": 2,
   "id": "d15be6b5",
   "metadata": {},
   "outputs": [
    {
     "name": "stdout",
     "output_type": "stream",
     "text": [
      "-2\n"
     ]
    }
   ],
   "source": [
    "a=7\n",
    "b=9\n",
    "c=a-b\n",
    "print(c)"
   ]
  },
  {
   "cell_type": "markdown",
   "id": "2527c3cf",
   "metadata": {},
   "source": [
    "- In Python, operators are symbols that perform operations on values and variables"
   ]
  },
  {
   "cell_type": "code",
   "execution_count": 1,
   "id": "1b7969c9",
   "metadata": {},
   "outputs": [
    {
     "data": {
      "text/plain": [
       "12"
      ]
     },
     "execution_count": 1,
     "metadata": {},
     "output_type": "execute_result"
    }
   ],
   "source": [
    "a=3\n",
    "b=9\n",
    "a+b"
   ]
  },
  {
   "cell_type": "code",
   "execution_count": 29,
   "id": "636e17ce",
   "metadata": {},
   "outputs": [
    {
     "name": "stdout",
     "output_type": "stream",
     "text": [
      "16\n"
     ]
    }
   ],
   "source": [
    "a=7\n",
    "b=9\n",
    "print(a+b)"
   ]
  },
  {
   "cell_type": "code",
   "execution_count": 2,
   "id": "d442d1fd",
   "metadata": {},
   "outputs": [
    {
     "data": {
      "text/plain": [
       "0.4"
      ]
     },
     "execution_count": 2,
     "metadata": {},
     "output_type": "execute_result"
    }
   ],
   "source": [
    "# 2/5float divis"
   ]
  },
  {
   "cell_type": "code",
   "execution_count": 6,
   "id": "e69003ed",
   "metadata": {},
   "outputs": [
    {
     "data": {
      "text/plain": [
       "0.5"
      ]
     },
     "execution_count": 6,
     "metadata": {},
     "output_type": "execute_result"
    }
   ],
   "source": [
    "2/4"
   ]
  },
  {
   "cell_type": "code",
   "execution_count": 1,
   "id": "b7d13651",
   "metadata": {},
   "outputs": [
    {
     "data": {
      "text/plain": [
       "0"
      ]
     },
     "execution_count": 1,
     "metadata": {},
     "output_type": "execute_result"
    }
   ],
   "source": [
    "# integer divison 2//9"
   ]
  },
  {
   "cell_type": "code",
   "execution_count": 8,
   "id": "15217ca3",
   "metadata": {},
   "outputs": [
    {
     "data": {
      "text/plain": [
       "4.0"
      ]
     },
     "execution_count": 8,
     "metadata": {},
     "output_type": "execute_result"
    }
   ],
   "source": [
    "8/2\n"
   ]
  },
  {
   "cell_type": "code",
   "execution_count": 7,
   "id": "fea5828b",
   "metadata": {},
   "outputs": [
    {
     "name": "stdout",
     "output_type": "stream",
     "text": [
      "please enter value8.9\n",
      "8.9\n",
      "<class 'float'>\n"
     ]
    }
   ],
   "source": [
    "a=float(input(\"please enter value\"))\n",
    "print(a)\n",
    "print(type(a))"
   ]
  },
  {
   "cell_type": "code",
   "execution_count": 8,
   "id": "00fa30e4",
   "metadata": {},
   "outputs": [
    {
     "name": "stdout",
     "output_type": "stream",
     "text": [
      "please give one value: 87\n",
      "2\n"
     ]
    }
   ],
   "source": [
    "a =int(input('please give one value: '))\n",
    "a%=5\n",
    "print(a)"
   ]
  },
  {
   "cell_type": "code",
   "execution_count": null,
   "id": "5dfada4c",
   "metadata": {},
   "outputs": [],
   "source": []
  },
  {
   "cell_type": "markdown",
   "id": "317cf9f3",
   "metadata": {},
   "source": [
    "Types of operators:"
   ]
  },
  {
   "cell_type": "markdown",
   "id": "c1cfff5d",
   "metadata": {},
   "source": [
    "- Arithmetic Operators:"
   ]
  },
  {
   "cell_type": "markdown",
   "id": "67575d2c",
   "metadata": {},
   "source": [
    "- Comparison Operators:"
   ]
  },
  {
   "cell_type": "markdown",
   "id": "750f04b9",
   "metadata": {},
   "source": [
    "- Assignment Operators:"
   ]
  },
  {
   "cell_type": "markdown",
   "id": "f1532e73",
   "metadata": {},
   "source": [
    "- Logical Operators:"
   ]
  },
  {
   "cell_type": "markdown",
   "id": "d683331a",
   "metadata": {},
   "source": [
    "- Membership Operators:"
   ]
  },
  {
   "cell_type": "code",
   "execution_count": null,
   "id": "e27e13d9",
   "metadata": {},
   "outputs": [],
   "source": [
    "limcaa"
   ]
  },
  {
   "cell_type": "markdown",
   "id": "63e14181",
   "metadata": {},
   "source": [
    "- Identity Operators:"
   ]
  },
  {
   "cell_type": "markdown",
   "id": "8f656d2f",
   "metadata": {},
   "source": [
    "Arithmetic Operators:"
   ]
  },
  {
   "cell_type": "markdown",
   "id": "cbe8f2f2",
   "metadata": {},
   "source": [
    "- These perform mathematical operations like addition, subtraction, multiplication"
   ]
  },
  {
   "cell_type": "code",
   "execution_count": null,
   "id": "38cec130",
   "metadata": {},
   "outputs": [],
   "source": [
    "#a+b  \n",
    "# (+) operator \n",
    "#a,b---->operand"
   ]
  },
  {
   "cell_type": "code",
   "execution_count": null,
   "id": "b8099b96",
   "metadata": {},
   "outputs": [],
   "source": []
  },
  {
   "cell_type": "code",
   "execution_count": null,
   "id": "119d70ca",
   "metadata": {},
   "outputs": [],
   "source": [
    "#Addition (+)\n",
    "a =int(input('please give one value: '))\n",
    "b =int(input('please give second value'))\n",
    "add =a+b\n",
    "print(add)"
   ]
  },
  {
   "cell_type": "code",
   "execution_count": null,
   "id": "a668c6e7",
   "metadata": {},
   "outputs": [],
   "source": []
  },
  {
   "cell_type": "code",
   "execution_count": 4,
   "id": "2e333d1b",
   "metadata": {},
   "outputs": [
    {
     "name": "stdout",
     "output_type": "stream",
     "text": [
      "please give one value: 77\n",
      "please give second value56\n",
      "a-b: 21\n"
     ]
    }
   ],
   "source": [
    "#Subtraction(-)\n",
    "a =int(input('please give one value: '))\n",
    "b =int(input('please give second value'))\n",
    "sub =a-b\n",
    "print(\"a-b:\",sub)"
   ]
  },
  {
   "cell_type": "code",
   "execution_count": 5,
   "id": "b1350c2b",
   "metadata": {},
   "outputs": [
    {
     "name": "stdout",
     "output_type": "stream",
     "text": [
      "please give one value: 78\n",
      "please give second value90\n",
      "a*b: 7020\n"
     ]
    }
   ],
   "source": [
    "#multiplication(*)\n",
    "a =int(input('please give one value: '))\n",
    "b =int(input('please give second value'))\n",
    "multi =a*b\n",
    "print(\"a*b:\",multi)"
   ]
  },
  {
   "cell_type": "code",
   "execution_count": 2,
   "id": "9c708168",
   "metadata": {},
   "outputs": [
    {
     "name": "stdout",
     "output_type": "stream",
     "text": [
      "please give one value: 10\n",
      "please give second value2\n",
      "a/b: 5.0\n"
     ]
    }
   ],
   "source": [
    "#division (/) gives float value\n",
    "a =int(input('please give one value: '))\n",
    "b =int(input('please give second value'))\n",
    "div =a/b \n",
    "print(\"a/b:\",div)"
   ]
  },
  {
   "cell_type": "code",
   "execution_count": 3,
   "id": "4e117568",
   "metadata": {},
   "outputs": [
    {
     "name": "stdout",
     "output_type": "stream",
     "text": [
      "please give one value: 10\n",
      "please give second value2\n",
      "a//b: 5\n"
     ]
    }
   ],
   "source": [
    "#division (//) gives int value gives round value\n",
    "a =int(input('please give one value: '))\n",
    "b =int(input('please give second value'))\n",
    "div =a//b\n",
    "print(\"a//b:\",div)"
   ]
  },
  {
   "cell_type": "code",
   "execution_count": 4,
   "id": "cb01d01e",
   "metadata": {},
   "outputs": [
    {
     "name": "stdout",
     "output_type": "stream",
     "text": [
      "please give one value: 20\n",
      "please give second value3\n",
      "a%b: 2\n"
     ]
    }
   ],
   "source": [
    "#remender(%)\n",
    "a =int(input('please give one value: '))\n",
    "b =int(input('please give second value'))\n",
    "remender = a%b\n",
    "print(\"a%b:\",remender)"
   ]
  },
  {
   "cell_type": "code",
   "execution_count": 5,
   "id": "12c7a48a",
   "metadata": {},
   "outputs": [
    {
     "name": "stdout",
     "output_type": "stream",
     "text": [
      "please give one value: 8\n",
      "please give second value2\n",
      "a**b: 64\n"
     ]
    }
   ],
   "source": [
    "#power (**)\n",
    "a =int(input('please give one value: '))\n",
    "b =int(input('please give second value'))\n",
    "power = a**b\n",
    "print(\"a**b:\",power)"
   ]
  },
  {
   "cell_type": "code",
   "execution_count": 7,
   "id": "00ac051e",
   "metadata": {},
   "outputs": [
    {
     "name": "stdout",
     "output_type": "stream",
     "text": [
      "preet\n",
      "preet\n",
      "preet\n",
      "preet\n",
      "preet\n",
      "preet\n",
      "preet\n",
      "preet\n",
      "preet\n",
      "preet\n",
      "preet\n",
      "preet\n",
      "preet\n",
      "preet\n",
      "preet\n",
      "preet\n",
      "preet\n",
      "preet\n",
      "preet\n",
      "preet\n",
      "\n"
     ]
    }
   ],
   "source": [
    "print(\"preet\\n\"*20)"
   ]
  },
  {
   "cell_type": "code",
   "execution_count": 14,
   "id": "f64b1812",
   "metadata": {},
   "outputs": [
    {
     "name": "stdout",
     "output_type": "stream",
     "text": [
      "akshit\n",
      "akshit\n",
      "akshit\n",
      "akshit\n",
      "akshit\n",
      "akshit\n",
      "akshit\n",
      "akshit\n",
      "akshit\n",
      "akshit\n",
      "\n"
     ]
    }
   ],
   "source": [
    "print(\"akshit\\n\"*10)"
   ]
  },
  {
   "cell_type": "code",
   "execution_count": null,
   "id": "6e6b249a",
   "metadata": {},
   "outputs": [],
   "source": [
    "2**3"
   ]
  },
  {
   "cell_type": "markdown",
   "id": "054d40d1",
   "metadata": {},
   "source": [
    "Comparison Operators:"
   ]
  },
  {
   "cell_type": "markdown",
   "id": "935621fe",
   "metadata": {},
   "source": [
    " - These operators compare two values and return a Boolean value indicating whether the comparison is True or False"
   ]
  },
  {
   "cell_type": "code",
   "execution_count": null,
   "id": "5bc810c8",
   "metadata": {},
   "outputs": [],
   "source": [
    "a=\"n\""
   ]
  },
  {
   "cell_type": "code",
   "execution_count": null,
   "id": "931bb4b6",
   "metadata": {},
   "outputs": [],
   "source": [
    "a=\"preer\""
   ]
  },
  {
   "cell_type": "code",
   "execution_count": 8,
   "id": "c87e464e",
   "metadata": {},
   "outputs": [
    {
     "name": "stdout",
     "output_type": "stream",
     "text": [
      "please give first value: 3\n",
      "please give second value3\n",
      "True\n",
      "False\n"
     ]
    }
   ],
   "source": [
    "#equal(==)\n",
    "\n",
    "a =int(input('please give first value: '))\n",
    "b =int(input('please give second value'))\n",
    "print(a==b)\n",
    "print(a!=b)\n",
    "\n"
   ]
  },
  {
   "cell_type": "code",
   "execution_count": 6,
   "id": "491a408a",
   "metadata": {},
   "outputs": [
    {
     "name": "stdout",
     "output_type": "stream",
     "text": [
      "False\n"
     ]
    }
   ],
   "source": [
    "#equal(==)\n",
    "\n",
    "a =5\n",
    "b = 6\n",
    "print(a==b)"
   ]
  },
  {
   "cell_type": "code",
   "execution_count": 8,
   "id": "aad0f3c3",
   "metadata": {},
   "outputs": [
    {
     "name": "stdout",
     "output_type": "stream",
     "text": [
      "please give one value: 78\n",
      "please give second value78\n",
      "False\n"
     ]
    }
   ],
   "source": [
    "# not equal(!=)\n",
    "a =int(input('please give one value: '))\n",
    "b =int(input('please give second value'))\n",
    "print(a!=b)"
   ]
  },
  {
   "cell_type": "code",
   "execution_count": 9,
   "id": "54eba1aa",
   "metadata": {},
   "outputs": [
    {
     "name": "stdout",
     "output_type": "stream",
     "text": [
      "please give one value: 7\n",
      "please give second value8\n",
      "True\n",
      "True\n"
     ]
    }
   ],
   "source": [
    "#greater then (>)\n",
    "a =int(input('please give one value: '))\n",
    "b =int(input('please give second value'))\n",
    "print(a>4)\n",
    "print(b>7)"
   ]
  },
  {
   "cell_type": "code",
   "execution_count": 18,
   "id": "b9956b72",
   "metadata": {},
   "outputs": [
    {
     "name": "stdout",
     "output_type": "stream",
     "text": [
      "number7\n",
      "number229\n",
      "True\n"
     ]
    }
   ],
   "source": [
    "a=int(input(\"number\"))\n",
    "b=int(input(\"number2\"))\n",
    "print(a<=b)"
   ]
  },
  {
   "cell_type": "code",
   "execution_count": 10,
   "id": "c4ae93ff",
   "metadata": {},
   "outputs": [
    {
     "name": "stdout",
     "output_type": "stream",
     "text": [
      "please give one value: 6\n",
      "please give second value6\n",
      "False\n",
      "True\n"
     ]
    }
   ],
   "source": [
    "#less than (<)\n",
    "a =int(input('please give one value: '))\n",
    "b =int(input('please give second value'))\n",
    "print(a<4)\n",
    "print(b<7)\n"
   ]
  },
  {
   "cell_type": "code",
   "execution_count": 10,
   "id": "580b2fab",
   "metadata": {},
   "outputs": [
    {
     "name": "stdout",
     "output_type": "stream",
     "text": [
      "please give one value: 5\n",
      "True\n"
     ]
    }
   ],
   "source": [
    "#equal to or greater then(>=)\n",
    "a =int(input('please give one value: '))\n",
    "\n",
    "print(a>=5)\n",
    "# print(a>=4)\n",
    "# print(a>=3)\n",
    "# print(a>=2)\n",
    "# print(a>=1)\n",
    "# b =4\n",
    "# print(a>=b)"
   ]
  },
  {
   "cell_type": "code",
   "execution_count": 11,
   "id": "6b79f8d3",
   "metadata": {},
   "outputs": [
    {
     "name": "stdout",
     "output_type": "stream",
     "text": [
      "please give one value: 6\n",
      "please give second value7\n",
      "True\n"
     ]
    }
   ],
   "source": [
    "#equal to and less then then(<=)\n",
    "a =int(input('please give one value: '))\n",
    "b =int(input('please give second value'))\n",
    "print(a<=b) "
   ]
  },
  {
   "cell_type": "code",
   "execution_count": 12,
   "id": "18abf538",
   "metadata": {},
   "outputs": [
    {
     "ename": "SyntaxError",
     "evalue": "invalid syntax (1100370962.py, line 1)",
     "output_type": "error",
     "traceback": [
      "\u001b[1;36m  File \u001b[1;32m\"C:\\Users\\Admin\\AppData\\Local\\Temp\\ipykernel_908\\1100370962.py\"\u001b[1;36m, line \u001b[1;32m1\u001b[0m\n\u001b[1;33m    ==\u001b[0m\n\u001b[1;37m     ^\u001b[0m\n\u001b[1;31mSyntaxError\u001b[0m\u001b[1;31m:\u001b[0m invalid syntax\n"
     ]
    }
   ],
   "source": [
    "==\n",
    "!=\n",
    ">\n",
    "<\n",
    ">=\n",
    "<="
   ]
  },
  {
   "cell_type": "markdown",
   "id": "fb6a12b7",
   "metadata": {},
   "source": [
    "Assignment Operators:"
   ]
  },
  {
   "cell_type": "code",
   "execution_count": 19,
   "id": "b7f98714",
   "metadata": {},
   "outputs": [],
   "source": [
    "a=5767\n",
    "a=\"xfddhjy\""
   ]
  },
  {
   "cell_type": "markdown",
   "id": "6794b4ec",
   "metadata": {},
   "source": [
    "- These operators are used to assign values to variables"
   ]
  },
  {
   "cell_type": "code",
   "execution_count": null,
   "id": "521030a2",
   "metadata": {},
   "outputs": [],
   "source": [
    "a = int(input('please give one value: '))"
   ]
  },
  {
   "cell_type": "code",
   "execution_count": null,
   "id": "c59d51ae",
   "metadata": {},
   "outputs": [],
   "source": [
    "a =int(input('please give one value: '))\n",
    "a+=2\n",
    "print(a)"
   ]
  },
  {
   "cell_type": "code",
   "execution_count": null,
   "id": "9e89203e",
   "metadata": {},
   "outputs": [],
   "source": []
  },
  {
   "cell_type": "markdown",
   "id": "bbd0aea7",
   "metadata": {},
   "source": []
  },
  {
   "cell_type": "markdown",
   "id": "5a31aae2",
   "metadata": {},
   "source": []
  },
  {
   "cell_type": "code",
   "execution_count": 1,
   "id": "9271dbcd",
   "metadata": {},
   "outputs": [
    {
     "name": "stdout",
     "output_type": "stream",
     "text": [
      "please give one value: 2\n",
      "1\n"
     ]
    }
   ],
   "source": [
    "a =int(input('please give one value: '))\n",
    "a-=1\n",
    "print(a)"
   ]
  },
  {
   "cell_type": "code",
   "execution_count": 15,
   "id": "0a5a1daf",
   "metadata": {},
   "outputs": [
    {
     "name": "stdout",
     "output_type": "stream",
     "text": [
      "please give one value: 3\n",
      "6\n"
     ]
    }
   ],
   "source": [
    "a =int(input('please give one value: '))\n",
    "a*=2\n",
    "print(a)"
   ]
  },
  {
   "cell_type": "code",
   "execution_count": 4,
   "id": "27d276a8",
   "metadata": {},
   "outputs": [
    {
     "name": "stdout",
     "output_type": "stream",
     "text": [
      "please give one value: 5\n",
      "2.5\n"
     ]
    }
   ],
   "source": [
    "a =int(input('please give one value: '))\n",
    "a/=2\n",
    "print(a)"
   ]
  },
  {
   "cell_type": "code",
   "execution_count": 9,
   "id": "cb55da29",
   "metadata": {},
   "outputs": [
    {
     "name": "stdout",
     "output_type": "stream",
     "text": [
      "please give one value: 8.3\n",
      "4.0\n"
     ]
    }
   ],
   "source": [
    "a =float(input('please give one value: '))\n",
    "\n",
    "a//=2\n",
    "print(a)"
   ]
  },
  {
   "cell_type": "code",
   "execution_count": 7,
   "id": "ffed72a6",
   "metadata": {},
   "outputs": [
    {
     "name": "stdout",
     "output_type": "stream",
     "text": [
      "please give one value: 2\n",
      "2\n"
     ]
    }
   ],
   "source": [
    "a =int(input('please give one value: '))\n",
    "a%=5\n",
    "print(a)"
   ]
  },
  {
   "cell_type": "code",
   "execution_count": null,
   "id": "70cdc84c",
   "metadata": {},
   "outputs": [],
   "source": [
    "a =int(input('please give one value: '))\n",
    "a**=2\n",
    "print(a)"
   ]
  },
  {
   "cell_type": "code",
   "execution_count": 3,
   "id": "f20ca2e0",
   "metadata": {},
   "outputs": [
    {
     "name": "stdout",
     "output_type": "stream",
     "text": [
      "Enter a number: 78\n",
      "number is Even\n"
     ]
    }
   ],
   "source": [
    "num = int(input(\"Enter a number: \"))\n",
    "if (num % 2) == 0:\n",
    "    print(\"number is Even\")\n",
    "else:\n",
    "     print(\"number is Odd\")"
   ]
  },
  {
   "cell_type": "code",
   "execution_count": null,
   "id": "b2d071c2",
   "metadata": {},
   "outputs": [],
   "source": []
  },
  {
   "cell_type": "code",
   "execution_count": null,
   "id": "ffc605f4",
   "metadata": {},
   "outputs": [],
   "source": []
  }
 ],
 "metadata": {
  "kernelspec": {
   "display_name": "Python 3 (ipykernel)",
   "language": "python",
   "name": "python3"
  },
  "language_info": {
   "codemirror_mode": {
    "name": "ipython",
    "version": 3
   },
   "file_extension": ".py",
   "mimetype": "text/x-python",
   "name": "python",
   "nbconvert_exporter": "python",
   "pygments_lexer": "ipython3",
   "version": "3.7.8rc1"
  },
  "vscode": {
   "interpreter": {
    "hash": "72b2382ece9768098284d92bbc69d35954e75b60d1e25897d1389c232f4796f0"
   }
  }
 },
 "nbformat": 4,
 "nbformat_minor": 5
}
